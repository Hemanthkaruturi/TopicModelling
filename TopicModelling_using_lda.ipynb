{
 "cells": [
  {
   "cell_type": "code",
   "execution_count": 12,
   "metadata": {},
   "outputs": [],
   "source": [
    "doc1 = \"India has 29 states with different culture and civilizations and one of the most populated countries in the world.[3] The Indian culture, often labeled as an amalgamation of several various cultures, spans across the Indian subcontinent and has been influenced and shaped by a history that is several thousand years old.[1][2] Throughout the history of India, Indian culture has been heavily influenced by Dharmic religions.[4] They have been credited with shaping much of Indian philosophy, literature, architecture, art and music.[5] Greater India was the historical extent of Indian culture beyond the Indian subcontinent. This particularly concerns the spread of Hinduism, Buddhism, architecture, administration and writing system from India to other parts of Asia through the Silk Road by the travellers and maritime traders during the early centuries of the Common Era.[6][7] To the west, Greater India overlaps with Greater Persia in the Hindu Kush and Pamir Mountains.[8] Over the centuries, there has been significant fusion of cultures between Buddhists, Hindus, Muslims, Jains, Sikhs and various tribal populations in India.[9][10] India is the birthplace of Hinduism, Buddhism, Jainism, Sikhism, and other religions. Collectively known as Indian religions.[11] Indian religions are a major form of world religions along with Abrahamic ones. Today, Hinduism and Buddhism are the world's third and fourth-largest religions respectively, with over 2 billion followers altogether,[12][13][14] and possibly as many as 2.5 or 2.6 billion followers.[12][15] Followers of Indian religions – Hindus, Sikhs, Jains and Buddhists make up around 80–82% population of India. India is one of the most religiously and ethnically diverse nations in the world, with some of the most deeply religious societies and cultures. Religion plays a central and definitive role in the life of many of its people. Although India is a secular Hindu-majority country, it has a large Muslim population. Except for Jammu and Kashmir, Punjab, Meghalaya, Manipur, Nagaland, Mizoram and Lakshadweep, Hindus form the predominant population in all 29 states and 7 union territories. Muslims are present throughout India, with large populations in Uttar Pradesh, Bihar, Maharashtra, Kerala, Telangana, West Bengal and Assam; while only Jammu and Kashmir and Lakshadweep have majority Muslim populations. Sikhs and Christians are other significant minorities of India.According to the 2011 census, 79.8% of the population of India practice Hinduism. Islam (14.2%), Christianity (2.3%), Sikhism (1.7%), Buddhism (0.7%) and Jainism (0.4%) are the other major religions followed by the people of India.[16] Many tribal religions, such as Sarnaism, are found in India, though these have been affected by major religions such as Hinduism, Buddhism, Islam and Christianity.[17] Jainism, Zoroastrianism, Judaism, and the Bahá'í Faith are also influential but their numbers are smaller.[17] Atheism and agnostics also have visible influence in India, along with a self-ascribed tolerance to other faiths.[17] According to a study conducted by the Pew Research Centre, India will have world's largest populations of Hindus and Muslims by 2050. India is expected to have about 311 million Muslims making up around 19–20% of the population and yet about 1.3 billion Hindus are projected to live in India comprising around 76% of the population.Atheism and agnosticism have a long history in India and flourished within Śramaṇa movement. The Cārvāka school originated in India around the 6th century BCE.[18][19] It is one of the earliest form of materialistic and atheistic movement in ancient India.[20][21] Sramana, Buddhism, Jainism, Ājīvika and some schools of Hinduism consider atheism to be valid and reject the concept of creator deity, ritualism and superstitions.[22][23][24] India has produced some notable atheist politicians and social reformers.[25] According to the 2012 WIN-Gallup Global Index of Religion and Atheism report, 81% of Indians were religious, 13% were not religious, 3% were convinced atheists, and 3% were unsure or did not respond.[26][27]\"\n",
    "doc2 = \"My father spends a lot of time driving my sister around to dance practice.\"\n",
    "doc3 = \"Doctors suggest that driving may cause increased stress and blood pressure.\"\n",
    "doc4 = \"Sometimes I feel pressure to perform well at school, but my father never seems to drive my sister to do better.\"\n",
    "doc5 = \"Health experts say that Sugar is not good for your lifestyle.\""
   ]
  },
  {
   "cell_type": "code",
   "execution_count": 13,
   "metadata": {},
   "outputs": [],
   "source": [
    "doc_complete = [doc1, doc2, doc3, doc4, doc5]"
   ]
  },
  {
   "cell_type": "code",
   "execution_count": 11,
   "metadata": {},
   "outputs": [],
   "source": [
    "#doc_complete"
   ]
  },
  {
   "cell_type": "code",
   "execution_count": 14,
   "metadata": {},
   "outputs": [
    {
     "name": "stdout",
     "output_type": "stream",
     "text": [
      "[nltk_data] Downloading package punkt to /home/jupyterlab/nltk_data...\n",
      "[nltk_data]   Package punkt is already up-to-date!\n",
      "[nltk_data] Downloading package wordnet to\n",
      "[nltk_data]     /home/jupyterlab/nltk_data...\n",
      "[nltk_data]   Package wordnet is already up-to-date!\n",
      "[nltk_data] Downloading package stopwords to\n",
      "[nltk_data]     /home/jupyterlab/nltk_data...\n",
      "[nltk_data]   Package stopwords is already up-to-date!\n",
      "[nltk_data] Downloading package punkt to /home/jupyterlab/nltk_data...\n",
      "[nltk_data]   Package punkt is already up-to-date!\n"
     ]
    }
   ],
   "source": [
    "import nltk\n",
    "import re\n",
    "#!pip install contractions\n",
    "#!pip install gensim\n",
    "import contractions\n",
    "from nltk.stem import WordNetLemmatizer\n",
    "from nltk.corpus import stopwords\n",
    "\n",
    "nltk.download('punkt')\n",
    "nltk.download('wordnet')\n",
    "nltk.download('stopwords')\n",
    "nltk.download('punkt')\n",
    "pos_review = []\n",
    "corpus = []\n",
    "for review in doc_complete:\n",
    "    #Converting upper case to lower case\n",
    "    review = review.lower()\n",
    "    \n",
    "\n",
    "    #removing all \\n from the text\n",
    "    review = review.replace('\\n','')\n",
    "    \n",
    "\n",
    "    #Removing everything except a-z\n",
    "    review = re.sub(r'[^a-z]',' ',review)\n",
    "\n",
    "\n",
    "    #replacing contractions in the text\n",
    "    review = contractions.fix(review)\n",
    "\n",
    "    #tokenizing the review\n",
    "    review = nltk.word_tokenize(review)\n",
    "    \n",
    "    for r in review:\n",
    "        review = [word for word in review if word not in set(stopwords.words('english'))]\n",
    "    corpus.append(review)\n",
    "    #print(corpus)\n",
    "    \n",
    "    \n"
   ]
  },
  {
   "cell_type": "code",
   "execution_count": 27,
   "metadata": {},
   "outputs": [],
   "source": [
    "#corpus[1:5]"
   ]
  },
  {
   "cell_type": "code",
   "execution_count": 6,
   "metadata": {},
   "outputs": [],
   "source": [
    "#"
   ]
  },
  {
   "cell_type": "code",
   "execution_count": 15,
   "metadata": {},
   "outputs": [],
   "source": [
    "# Importing Gensim\n",
    "import gensim\n",
    "from gensim import corpora\n",
    "\n",
    "# Creating the term dictionary of our courpus, where every unique term is assigned an index. dictionary = corpora.Dictionary(doc_clean)\n",
    "dictionary = corpora.Dictionary(corpus)\n",
    "# Converting list of documents (corpus) into Document Term Matrix using dictionary prepared above.\n",
    "doc_term_matrix = [dictionary.doc2bow(corp) for corp in corpus]"
   ]
  },
  {
   "cell_type": "code",
   "execution_count": 16,
   "metadata": {},
   "outputs": [],
   "source": [
    "# Creating the object for LDA model using gensim library\n",
    "Lda = gensim.models.ldamodel.LdaModel\n",
    "\n",
    "# Running and Trainign LDA model on the document term matrix.\n",
    "ldamodel = Lda(doc_term_matrix, num_topics=5, id2word = dictionary, passes=50)"
   ]
  },
  {
   "cell_type": "code",
   "execution_count": 17,
   "metadata": {},
   "outputs": [
    {
     "name": "stdout",
     "output_type": "stream",
     "text": [
      "[(0, '0.019*\"sister\" + 0.019*\"father\" + 0.019*\"pressure\"'), (1, '0.018*\"dance\" + 0.018*\"lot\" + 0.018*\"spends\"'), (2, '0.057*\"india\" + 0.025*\"religions\" + 0.022*\"indian\"'), (3, '0.020*\"driving\" + 0.020*\"increased\" + 0.020*\"suggest\"'), (4, '0.004*\"india\" + 0.004*\"religions\" + 0.004*\"indian\"')]\n"
     ]
    }
   ],
   "source": [
    "print(ldamodel.print_topics(num_topics=5, num_words=3))"
   ]
  }
 ],
 "metadata": {
  "kernelspec": {
   "display_name": "Python 3",
   "language": "python",
   "name": "python3"
  },
  "language_info": {
   "codemirror_mode": {
    "name": "ipython",
    "version": 3
   },
   "file_extension": ".py",
   "mimetype": "text/x-python",
   "name": "python",
   "nbconvert_exporter": "python",
   "pygments_lexer": "ipython3",
   "version": "3.6.4"
  }
 },
 "nbformat": 4,
 "nbformat_minor": 2
}
