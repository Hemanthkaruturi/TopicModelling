{
 "cells": [
  {
   "cell_type": "code",
   "execution_count": 152,
   "metadata": {},
   "outputs": [],
   "source": [
    "doc1 = \"India has 29 states with different culture and civilizations and one of the most populated countries in the world.[3] The Indian culture, often labeled as an amalgamation of several various cultures, spans across the Indian subcontinent and has been influenced and shaped by a history that is several thousand years old.[1][2] Throughout the history of India, Indian culture has been heavily influenced by Dharmic religions.[4] They have been credited with shaping much of Indian philosophy, literature, architecture, art and music.[5] Greater India was the historical extent of Indian culture beyond the Indian subcontinent. This particularly concerns the spread of Hinduism, Buddhism, architecture, administration and writing system from India to other parts of Asia through the Silk Road by the travellers and maritime traders during the early centuries of the Common Era.[6][7] To the west, Greater India overlaps with Greater Persia in the Hindu Kush and Pamir Mountains.[8] Over the centuries, there has been significant fusion of cultures between Buddhists, Hindus, Muslims, Jains, Sikhs and various tribal populations in India.[9][10] India is the birthplace of Hinduism, Buddhism, Jainism, Sikhism, and other religions. Collectively known as Indian religions.[11] Indian religions are a major form of world religions along with Abrahamic ones. Today, Hinduism and Buddhism are the world's third and fourth-largest religions respectively, with over 2 billion followers altogether,[12][13][14] and possibly as many as 2.5 or 2.6 billion followers.[12][15] Followers of Indian religions – Hindus, Sikhs, Jains and Buddhists make up around 80–82% population of India. India is one of the most religiously and ethnically diverse nations in the world, with some of the most deeply religious societies and cultures. Religion plays a central and definitive role in the life of many of its people. Although India is a secular Hindu-majority country, it has a large Muslim population. Except for Jammu and Kashmir, Punjab, Meghalaya, Manipur, Nagaland, Mizoram and Lakshadweep, Hindus form the predominant population in all 29 states and 7 union territories. Muslims are present throughout India, with large populations in Uttar Pradesh, Bihar, Maharashtra, Kerala, Telangana, West Bengal and Assam; while only Jammu and Kashmir and Lakshadweep have majority Muslim populations. Sikhs and Christians are other significant minorities of India.According to the 2011 census, 79.8% of the population of India practice Hinduism. Islam (14.2%), Christianity (2.3%), Sikhism (1.7%), Buddhism (0.7%) and Jainism (0.4%) are the other major religions followed by the people of India.[16] Many tribal religions, such as Sarnaism, are found in India, though these have been affected by major religions such as Hinduism, Buddhism, Islam and Christianity.[17] Jainism, Zoroastrianism, Judaism, and the Bahá'í Faith are also influential but their numbers are smaller.[17] Atheism and agnostics also have visible influence in India, along with a self-ascribed tolerance to other faiths.[17] According to a study conducted by the Pew Research Centre, India will have world's largest populations of Hindus and Muslims by 2050. India is expected to have about 311 million Muslims making up around 19–20% of the population and yet about 1.3 billion Hindus are projected to live in India comprising around 76% of the population.Atheism and agnosticism have a long history in India and flourished within Śramaṇa movement. The Cārvāka school originated in India around the 6th century BCE.[18][19] It is one of the earliest form of materialistic and atheistic movement in ancient India.[20][21] Sramana, Buddhism, Jainism, Ājīvika and some schools of Hinduism consider atheism to be valid and reject the concept of creator deity, ritualism and superstitions.[22][23][24] India has produced some notable atheist politicians and social reformers.[25] According to the 2012 WIN-Gallup Global Index of Religion and Atheism report, 81% of Indians were religious, 13% were not religious, 3% were convinced atheists, and 3% were unsure or did not respond.[26][27]\"\n",
    "doc2 = \"Science (from Latin scientia, meaning knowledge)[2][3]:58 is a systematic enterprise that builds and organizes knowledge in the form of testable explanations and predictions about the universe.[a] Contemporary science is typically subdivided into the natural sciences which study nature in the broadest sense, the social sciences which study people and societies, and the formal sciences like mathematics which study abstract concepts. Some do not consider formal sciences to be true science as theories within these disciplines cannot be tested with physical observations,[4]:54 although others dispute this view.[5] Either way, mathematics is a crucial tool for modern science and nowadays all science students need to take at least some basic mathematics courses during their studies. Disciplines which use science like engineering and medicine may also be considered to be applied sciences.[6] Science is related to research, and is normally organized by a university, a college, or a research institute. From classical antiquity through the 19th century, science as a type of knowledge was more closely linked to philosophy than it is now and, in fact, in the West the term natural philosophy encompassed fields of study that are today associated with science such as physics, astronomy, medicine, among many others.[7]:3[b] In the 17th and 18th centuries scientists increasingly sought to formulate knowledge in terms of laws of nature. As a slow process over centuries, the word science became increasingly associated with what is today known as the scientific method, a structured way to study the natural world.[8][9]\"\n",
    "doc_complete = [doc1, doc2]"
   ]
  },
  {
   "cell_type": "code",
   "execution_count": 151,
   "metadata": {},
   "outputs": [],
   "source": [
    "test_doc1 = \"Western societies did not always see the culture of India very favorably, according to Christina De Rossi, an anthropologist at Barnet and Southgate College in London. Early anthropologists once considered culture as an evolutionary process, and every aspect of human development was seen as driven by evolution, she told Live Science. In this view, societies outside of Europe or North America, or societies that did not follow the European or Western way of life, were considered primitive and culturally inferior. Essentially this included all the colonized countries and people, such as African countries, India, and the Far East.However, Indians made significant advances in architecture (Taj Mahal), mathematics (the invention of zero) and medicine (Ayurveda). Today, India is a very diverse country, with more than 1.2 billion people, according to the CIA World Factbook, making it the second most populous nation after China. Different regions have their own distinct cultures. Language, religion, food and the arts are just some of the various aspects of Indian culture.\"\n",
    "test_doc2 = \"The word science probably brings to mind many different pictures: a fat textbook, white lab coats and microscopes, an astronomer peering through a telescope, a naturalist in the rainforest, Einstein's equations scribbled on a chalkboard, the launch of the space shuttle, bubbling beakers …. All of those images reflect some aspect of science, but none of them provides a full picture because science has so many facets:Science is both a body of knowledge and a process. In school, science may sometimes seem like a collection of isolated and static facts listed in a textbook, but that's only a small part of the story. Just as importantly, science is also a process of discovery that allows us to link isolated facts into coherent and comprehensive understandings of the natural world. Science is exciting. Science is a way of discovering what's in the universe and how those things work today, how they worked in the past, and how they are likely to work in the future. Scientists are motivated by the thrill of seeing or figuring out something that no one has before. Science is useful. The knowledge generated by science is powerful and reliable. It can be used to develop new technologies, treat diseases, and deal with many other sorts of problems. Science is ongoing. Science is continually refining and expanding our knowledge of the universe, and as it does, it leads to new questions for future investigation. Science will never be finished.Science is a global human endeavor. People all over the world participate in the process of science. And you can too!\"\n",
    "doc_complete1 = [test_doc1, test_doc2]"
   ]
  },
  {
   "cell_type": "code",
   "execution_count": 17,
   "metadata": {},
   "outputs": [],
   "source": [
    "import nltk\n",
    "import re\n",
    "#!pip install contractions\n",
    "import contractions\n",
    "from nltk.stem import WordNetLemmatizer\n",
    "from nltk.corpus import stopwords\n",
    "\n",
    "#nltk.download('punkt')\n",
    "#nltk.download('wordnet')\n",
    "#nltk.download('stopwords')\n",
    "#nltk.download('punkt')\n",
    "pos_review = []\n",
    "corpus = []\n",
    "def clean(review):\n",
    "    #Converting upper case to lower case\n",
    "    review = review.lower()\n",
    "    \n",
    "\n",
    "    #removing all \\n from the text\n",
    "    review = review.replace('\\n','')\n",
    "    \n",
    "\n",
    "    #Removing everything except a-z\n",
    "    review = re.sub(r'[^a-z]',' ',review)\n",
    "\n",
    "\n",
    "    #replacing contractions in the text\n",
    "    review = contractions.fix(review)\n",
    "\n",
    "    #tokenizing the review\n",
    "    review = nltk.word_tokenize(review)\n",
    "    \n",
    "    \n",
    "    review = [word for word in review if word not in set(stopwords.words('english'))]\n",
    "    return review"
   ]
  },
  {
   "cell_type": "code",
   "execution_count": 140,
   "metadata": {},
   "outputs": [],
   "source": [
    "from collections import Counter\n",
    "\n",
    "culture_list = []\n",
    "science_list = []\n",
    "def training(doc, topic):\n",
    "    if topic == 1:\n",
    "        clean_doc = clean(doc)\n",
    "        word_counter = collections.Counter(clean_doc)\n",
    "        for word, count in word_counter.most_common(5):\n",
    "            culture_list.append(word)\n",
    "    if topic == 2:\n",
    "        clean_doc = clean(doc)\n",
    "        word_counter = collections.Counter(clean_doc)\n",
    "        for word, count in word_counter.most_common(5):\n",
    "            science_list.append(word)\n",
    "        "
   ]
  },
  {
   "cell_type": "code",
   "execution_count": 144,
   "metadata": {},
   "outputs": [],
   "source": [
    "training(doc1,1)"
   ]
  },
  {
   "cell_type": "code",
   "execution_count": 153,
   "metadata": {},
   "outputs": [
    {
     "name": "stdout",
     "output_type": "stream",
     "text": [
      "1 - culture\n",
      "2 - Science\n"
     ]
    }
   ],
   "source": [
    "import collections\n",
    "topic = 0\n",
    "for doc in doc_complete:\n",
    "    topic += 1\n",
    "    clean_doc = clean(doc)\n",
    "    c_words = [word for word in clean_doc if word in set(culture_list)]\n",
    "    #print(c_words)\n",
    "    s_words = [word for word in clean_doc if word in set(science_list)]\n",
    "    #print(s_words)\n",
    "    if len(c_words) > 5:\n",
    "        print(topic, '-','culture')\n",
    "    elif len(s_words) > 5:\n",
    "        print(topic,'-','Science')\n",
    "    else:\n",
    "        print(topic,'-','something else')\n",
    "        \n",
    "      "
   ]
  }
 ],
 "metadata": {
  "kernelspec": {
   "display_name": "Python 3",
   "language": "python",
   "name": "python3"
  },
  "language_info": {
   "codemirror_mode": {
    "name": "ipython",
    "version": 3
   },
   "file_extension": ".py",
   "mimetype": "text/x-python",
   "name": "python",
   "nbconvert_exporter": "python",
   "pygments_lexer": "ipython3",
   "version": "3.6.4"
  }
 },
 "nbformat": 4,
 "nbformat_minor": 2
}
